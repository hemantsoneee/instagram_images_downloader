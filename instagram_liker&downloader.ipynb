{
 "cells": [
  {
   "cell_type": "code",
   "execution_count": 1,
   "metadata": {},
   "outputs": [],
   "source": [
    "from bs4 import BeautifulSoup\n",
    "import os\n",
    "\n",
    "import requests\n",
    "import shutil\n",
    "\n",
    "from selenium import webdriver \n",
    "import time \n",
    "from selenium.webdriver.common.keys import Keys\n",
    "\n",
    "import getpass\n",
    "from xlsxwriter import Workbook"
   ]
  },
  {
   "cell_type": "code",
   "execution_count": 2,
   "metadata": {},
   "outputs": [
    {
     "name": "stdout",
     "output_type": "stream",
     "text": [
      "enter username\n"
     ]
    },
    {
     "name": "stdin",
     "output_type": "stream",
     "text": [
      " maa_chamunda_jewellery\n"
     ]
    },
    {
     "name": "stdout",
     "output_type": "stream",
     "text": [
      "enter password\n"
     ]
    },
    {
     "name": "stdin",
     "output_type": "stream",
     "text": [
      " ········\n"
     ]
    },
    {
     "name": "stdout",
     "output_type": "stream",
     "text": [
      "enter the url\n",
      "enter target user name\n"
     ]
    },
    {
     "name": "stdin",
     "output_type": "stream",
     "text": [
      " \n"
     ]
    }
   ],
   "source": [
    "print(\"enter username\") \n",
    "username = input() \n",
    "  \n",
    "print(\"enter password\") \n",
    "password = getpass.getpass()\n",
    "  \n",
    "print(\"enter the url\") \n",
    "url = 'https://www.instagram.com/accounts/login/'\n",
    "\n",
    "print(\"enter target user name\")\n",
    "target_username = input()"
   ]
  },
  {
   "cell_type": "code",
   "execution_count": 3,
   "metadata": {},
   "outputs": [],
   "source": [
    "def path():   \n",
    "    global chrome \n",
    "    print(\"enter the driver path\") \n",
    "    exe_path = 'C:\\\\Users\\\\hsoni\\\\Desktop\\\\facebook\\\\chromedriver.exe'\n",
    "  \n",
    "    # starts a new chrome session \n",
    "    chrome = webdriver.Chrome(executable_path = exe_path)  "
   ]
  },
  {
   "cell_type": "code",
   "execution_count": 4,
   "metadata": {},
   "outputs": [],
   "source": [
    "def url_name(url):   \n",
    "    # the web page opens up \n",
    "    chrome.get(url)  \n",
    "     \n",
    "    # webdriver will wait for 4 sec before throwing a   \n",
    "    # NoSuchElement exception so that the element  \n",
    "    # is detected and not skipped. \n",
    "    time.sleep(4)  "
   ]
  },
  {
   "cell_type": "code",
   "execution_count": 5,
   "metadata": {},
   "outputs": [],
   "source": [
    "def login(username, your_password): \n",
    "      \n",
    "    # finds the login button \n",
    "    #log_but = chrome.find_element_by_class_name(\"L3NKy\") \n",
    "    #time.sleep(2) \n",
    "  #\n",
    "    ## clicks the login button \n",
    "    #log_but.click()     \n",
    "    #time.sleep(4) \n",
    "  \n",
    "    # finds the username box \n",
    "    usern = chrome.find_element_by_name(\"username\")     \n",
    "  \n",
    "    # sends the entered username \n",
    "    usern.send_keys(username)    \n",
    "  \n",
    "    # finds the password box \n",
    "    passw = chrome.find_element_by_name(\"password\")     \n",
    "  \n",
    "    # sends the entered password \n",
    "    passw.send_keys(your_password)       \n",
    "    passw.send_keys(Keys.ENTER)\n",
    "    \n",
    "    time.sleep(10)\n",
    "    \n",
    "    #closes the first pop up box\n",
    "    close_btn = chrome.find_element_by_class_name(\"sqdOP.yWX7d.y3zKF\")\n",
    "    time.sleep(2)\n",
    "    close_btn.click()\n",
    "    time.sleep(4)\n",
    "    \n",
    "    #closes the second pop up box\n",
    "    close_btn2 = chrome.find_element_by_class_name(\"aOOlW.HoLwm\")\n",
    "    time.sleep(4)\n",
    "    close_btn2.click()\n",
    "    time.sleep(4)\n",
    "    \n",
    "     \n",
    "    # finds the login button \n",
    "    #log_cl = chrome.find_element_by_class_name(\"L3NKy\")     \n",
    "    #log_cl.click()   # clicks the login button \n",
    "    #time.sleep(4) "
   ]
  },
  {
   "cell_type": "markdown",
   "metadata": {},
   "source": [
    "def close_dialog_box():\n",
    "        ''' Close the Notification Dialog '''\n",
    "        try:\n",
    "            close_btn = chrome.find_element_by_class_name(\"sqdOP.yWX7d.y3zKF\")\n",
    "            close_btn.click()\n",
    "        except Exception:\n",
    "            pass "
   ]
  },
  {
   "cell_type": "code",
   "execution_count": 18,
   "metadata": {},
   "outputs": [],
   "source": [
    "def close_2nd_dialog_box():\n",
    " #closes the second pop up box\n",
    "    close_btn2 = chrome.find_element_by_class_name(\"aOOlW.HoLwm\")\n",
    "    time.sleep(4)\n",
    "    close_btn2.click()\n",
    "    time.sleep(4)"
   ]
  },
  {
   "cell_type": "code",
   "execution_count": 6,
   "metadata": {},
   "outputs": [],
   "source": [
    "def explorer(): \n",
    "    explorer_xpath = ' //*[@id=\"react-root\"]/section/nav/div[2]/div/div/div[3]/div/div[3]/a'\n",
    "    element = chrome.find_element_by_xpath(explorer_xpath)\n",
    "    element.click()\n",
    "    \n",
    "    \n",
    "    # finds the first picture  \n",
    "    #finder = chrome.find_element_by_class_name(\"_8-yf5\")    \n",
    "    #finder.click()   # clicks on the first picture\n",
    "    #time.sleep(4)"
   ]
  },
  {
   "cell_type": "code",
   "execution_count": null,
   "metadata": {},
   "outputs": [],
   "source": []
  },
  {
   "cell_type": "code",
   "execution_count": null,
   "metadata": {},
   "outputs": [],
   "source": []
  },
  {
   "cell_type": "code",
   "execution_count": 7,
   "metadata": {},
   "outputs": [],
   "source": [
    "def first_picture(): \n",
    "    \n",
    "    # finds the first picture  \n",
    "    pic = chrome.find_element_by_class_name(\"_9AhH0\")    \n",
    "    pic.click()   # clicks on the first picture"
   ]
  },
  {
   "cell_type": "code",
   "execution_count": 8,
   "metadata": {},
   "outputs": [],
   "source": [
    "def like_pic(): \n",
    "    time.sleep(4) \n",
    "    like = chrome.find_element_by_xpath('/html/body/div[4]/div[2]/div/article/div[2]/section[1]/span[1]/button') \n",
    "  \n",
    "\n",
    "    # you can find the like button using class name too \n",
    "    time.sleep(2) \n",
    "    like.click()   # clicking the like button "
   ]
  },
  {
   "cell_type": "code",
   "execution_count": 30,
   "metadata": {},
   "outputs": [],
   "source": [
    "def next_picture(): \n",
    "    time.sleep(2) \n",
    "\n",
    "    # finds the button which gives the next picture \n",
    "    nex = chrome.find_element_by_xpath(\"/html/body/div[4]/div[1]/div/div/a[2]\")   \n",
    "    time.sleep(1) \n",
    "    return nex "
   ]
  },
  {
   "cell_type": "code",
   "execution_count": 31,
   "metadata": {},
   "outputs": [],
   "source": [
    "def continue_liking(): \n",
    "    while(True): \n",
    "        next_el = next_picture() \n",
    "  \n",
    "        # if next button is there then \n",
    "        if next_el != False:   \n",
    "  \n",
    "            # click the next button \n",
    "            next_el.click()    \n",
    "            time.sleep(2) \n",
    "  \n",
    "            # like the picture \n",
    "            like_pic()     \n",
    "            time.sleep(2)             \n",
    "        else: \n",
    "            print(\"not found\")  \n",
    "            break"
   ]
  },
  {
   "cell_type": "code",
   "execution_count": null,
   "metadata": {},
   "outputs": [],
   "source": []
  },
  {
   "cell_type": "code",
   "execution_count": 11,
   "metadata": {},
   "outputs": [],
   "source": [
    "def open_target_profile():  \n",
    "        target_profile_url  = 'https://www.instagram.com' + '/' + target_username\n",
    "        print('Redirecting to profile...')\n",
    "        \n",
    "        # check if the target user profile is loaded. \n",
    "        try:\n",
    "            chrome.get(target_profile_url) \n",
    "            time.sleep(4)\n",
    "        except TimeoutError:\n",
    "            print('Some error occurred while trying to load the target username profile.')\n",
    "            "
   ]
  },
  {
   "cell_type": "code",
   "execution_count": 22,
   "metadata": {},
   "outputs": [
    {
     "name": "stdout",
     "output_type": "stream",
     "text": [
      "input target hashtag\n"
     ]
    },
    {
     "name": "stdin",
     "output_type": "stream",
     "text": [
      " rajputi_jewellery\n"
     ]
    }
   ],
   "source": [
    "def open_target_hashtag():  \n",
    "        target_hashtag_url  = 'https://www.instagram.com/explore/tags' + '/' + target_hashtag\n",
    "        print('Redirecting to profile...')\n",
    "        \n",
    "        # check if the target user profile is loaded. \n",
    "        try:\n",
    "            chrome.get(target_hashtag_url) \n",
    "            time.sleep(4)\n",
    "        except TimeoutError:\n",
    "            print('Some error occurred while trying to load the target username profile.')\n",
    "            \n",
    "print(\"input target hashtag\")\n",
    "target_hashtag = input()"
   ]
  },
  {
   "cell_type": "code",
   "execution_count": null,
   "metadata": {},
   "outputs": [],
   "source": []
  },
  {
   "cell_type": "code",
   "execution_count": 13,
   "metadata": {},
   "outputs": [],
   "source": [
    "def load_fetch_posts():\n",
    "        '''Load and fetch target account posts'''\n",
    "\n",
    "        image_list = [] # to store the posts\n",
    "\n",
    "        #//*[@id=\"react-root\"]/section/main/div/header/section/ul/li[1]/span/span\n",
    "        # get the no of posts\n",
    "        try:\n",
    "            no_of_posts = str(chrome.find_element_by_xpath('//span[@id = \"react-root\"]//header/section/ul/li//span[@class = \"g47SY \"]').text).replace(',', '') \n",
    "            no_of_posts = int(no_of_posts)\n",
    "            print('done till fetching no of posts')\n",
    "            #print('{0} has {1} posts'.format(target_username, self.no_of_posts))   \n",
    "        except Exception:\n",
    "            print('Some exception occurred while trying to find the number of posts.')\n",
    "            \n",
    "\n",
    "        try:\n",
    "            soup = BeautifulSoup(chrome.page_source, 'lxml')\n",
    "            all_images = soup.find_all('img', attrs = {'class': 'FFVAD'}) \n",
    "        \n",
    "            for img in all_images:\n",
    "                if img not in image_list:\n",
    "                    image_list.append(img)\n",
    "\n",
    "            if no_of_posts > 12: # 12 posts loads up when we open the profile\n",
    "                no_of_scrolls = round(no_of_posts/12) + 6 # extra scrolls if any error occurs while scrolling.\n",
    "\n",
    "                # Loading all the posts\n",
    "                print('Loading all the posts...')\n",
    "                for __ in range(no_of_scrolls):\n",
    "                    \n",
    "                    # Every time the page scrolls down we need to get the source code as it is dynamic\n",
    "                    chrome.execute_script('window.scrollTo(0, document.body.scrollHeight);')\n",
    "                    time.sleep(4) # introduce sleep time as per your internet connection as to give the time to posts to load\n",
    "                    \n",
    "                    soup = BeautifulSoup(chrome.page_source, 'lxml')\n",
    "                    all_images = soup.find_all('img') \n",
    "        \n",
    "                    for img in all_images:\n",
    "                        if img not in image_list:\n",
    "                            image_list.append(img)\n",
    "        except Exception:\n",
    "            print('Some error occurred while scrolling down and trying to load all posts.')\n",
    "            #sys.exit()  \n",
    "        \n",
    "        return image_list"
   ]
  },
  {
   "cell_type": "code",
   "execution_count": 14,
   "metadata": {},
   "outputs": [],
   "source": [
    "def download_descriptions(image_list):\n",
    "        ''' Writing the descriptions in excel file '''\n",
    "        print('writing the descriptions to excel...')\n",
    "        workbook = Workbook(os.path.join(\"C:/Users/hsoni/Desktop/facebook/insta_images\", 'descriptions.xlsx'))\n",
    "        worksheet = workbook.add_worksheet()\n",
    "        row = 0\n",
    "        worksheet.write(row, 0, 'Image name')       # 3 --> row number, column number, value\n",
    "        worksheet.write(row, 1, 'Description')\n",
    "        worksheet.write(row, 2, 'URL')\n",
    "        row += 1\n",
    "        for index, image in enumerate(image_list, start = 1):\n",
    "            filename = 'image_' + str(index) + '.jpg'\n",
    "            try:\n",
    "                description = image.get('alt')\n",
    "                url = image.get('src')\n",
    "            except KeyError:\n",
    "                description = 'No caption exists'\n",
    "\n",
    "            if description == '':\n",
    "                description = 'No caption exists'\n",
    "\n",
    "            worksheet.write(row, 0, filename)\n",
    "            worksheet.write(row, 1, description)\n",
    "            worksheet.write(row, 2, url)\n",
    "            row += 1\n",
    "        workbook.close()"
   ]
  },
  {
   "cell_type": "code",
   "execution_count": null,
   "metadata": {},
   "outputs": [],
   "source": []
  },
  {
   "cell_type": "code",
   "execution_count": 15,
   "metadata": {},
   "outputs": [],
   "source": [
    "def download_posts():\n",
    "        ''' To download all the posts of the target account ''' \n",
    "\n",
    "        image_list = load_fetch_posts()\n",
    "        download_descriptions(image_list)\n",
    "        no_of_images = len(image_list)\n",
    "        for index, img in enumerate(image_list, start = 1):\n",
    "            filename = 'image_' + str(index) + '.jpg'\n",
    "            image_path = os.path.join(\"C:/Users/hsoni/Desktop/facebook/insta_images\", filename)\n",
    "            link = img.get('src')\n",
    "            response = requests.get(link, stream = True)\n",
    "            print('Downloading image {0} of {1}'.format(index, no_of_images))\n",
    "            try:\n",
    "                with open(image_path, 'wb') as file:\n",
    "                    shutil.copyfileobj(response.raw, file)\n",
    "            except Exception as e:\n",
    "                print(e)\n",
    "                print('Couldn\\'t download image {0}.'.format(index))\n",
    "                print('Link for image {0} ---> {1}'.format(index, link))\n",
    "        print('Download completed!')"
   ]
  },
  {
   "cell_type": "code",
   "execution_count": null,
   "metadata": {},
   "outputs": [],
   "source": []
  },
  {
   "cell_type": "code",
   "execution_count": 16,
   "metadata": {},
   "outputs": [
    {
     "name": "stdout",
     "output_type": "stream",
     "text": [
      "enter the driver path\n"
     ]
    }
   ],
   "source": [
    "path() \n",
    "time.sleep(1) \n",
    "  \n",
    "url_name(url) \n",
    "  \n",
    "login(username, password) "
   ]
  },
  {
   "cell_type": "code",
   "execution_count": 19,
   "metadata": {},
   "outputs": [],
   "source": [
    "close_2nd_dialog_box()"
   ]
  },
  {
   "cell_type": "code",
   "execution_count": 23,
   "metadata": {},
   "outputs": [
    {
     "name": "stdout",
     "output_type": "stream",
     "text": [
      "Redirecting to profile...\n"
     ]
    }
   ],
   "source": [
    "open_target_hashtag()"
   ]
  },
  {
   "cell_type": "code",
   "execution_count": 48,
   "metadata": {},
   "outputs": [
    {
     "name": "stdout",
     "output_type": "stream",
     "text": [
      "Redirecting to profile...\n"
     ]
    }
   ],
   "source": [
    "open_target_profile()"
   ]
  },
  {
   "cell_type": "code",
   "execution_count": null,
   "metadata": {},
   "outputs": [],
   "source": [
    "like_pic()"
   ]
  },
  {
   "cell_type": "code",
   "execution_count": null,
   "metadata": {},
   "outputs": [],
   "source": []
  },
  {
   "cell_type": "code",
   "execution_count": 51,
   "metadata": {
    "collapsed": true,
    "jupyter": {
     "outputs_hidden": true
    }
   },
   "outputs": [
    {
     "name": "stdout",
     "output_type": "stream",
     "text": [
      "Some exception occurred while trying to find the number of posts.\n",
      "Some error occurred while scrolling down and trying to load all posts.\n",
      "writing the descriptions to excel...\n",
      "Downloading image 1 of 45\n",
      "Downloading image 2 of 45\n",
      "Downloading image 3 of 45\n",
      "Downloading image 4 of 45\n",
      "Downloading image 5 of 45\n",
      "Downloading image 6 of 45\n",
      "Downloading image 7 of 45\n",
      "Downloading image 8 of 45\n",
      "Downloading image 9 of 45\n",
      "Downloading image 10 of 45\n",
      "Downloading image 11 of 45\n",
      "Downloading image 12 of 45\n",
      "Downloading image 13 of 45\n",
      "Downloading image 14 of 45\n",
      "Downloading image 15 of 45\n",
      "Downloading image 16 of 45\n",
      "Downloading image 17 of 45\n",
      "Downloading image 18 of 45\n",
      "Downloading image 19 of 45\n",
      "Downloading image 20 of 45\n",
      "Downloading image 21 of 45\n",
      "Downloading image 22 of 45\n",
      "Downloading image 23 of 45\n",
      "Downloading image 24 of 45\n",
      "Downloading image 25 of 45\n",
      "Downloading image 26 of 45\n",
      "Downloading image 27 of 45\n",
      "Downloading image 28 of 45\n",
      "Downloading image 29 of 45\n",
      "Downloading image 30 of 45\n",
      "Downloading image 31 of 45\n",
      "Downloading image 32 of 45\n",
      "Downloading image 33 of 45\n",
      "Downloading image 34 of 45\n",
      "Downloading image 35 of 45\n",
      "Downloading image 36 of 45\n",
      "Downloading image 37 of 45\n",
      "Downloading image 38 of 45\n",
      "Downloading image 39 of 45\n",
      "Downloading image 40 of 45\n",
      "Downloading image 41 of 45\n",
      "Downloading image 42 of 45\n",
      "Downloading image 43 of 45\n",
      "Downloading image 44 of 45\n",
      "Downloading image 45 of 45\n",
      "Download completed!\n"
     ]
    }
   ],
   "source": [
    "download_posts()"
   ]
  },
  {
   "cell_type": "code",
   "execution_count": 83,
   "metadata": {},
   "outputs": [],
   "source": [
    "explorer()"
   ]
  },
  {
   "cell_type": "code",
   "execution_count": 24,
   "metadata": {},
   "outputs": [],
   "source": [
    "first_picture()"
   ]
  },
  {
   "cell_type": "code",
   "execution_count": 25,
   "metadata": {},
   "outputs": [],
   "source": [
    "like_pic()"
   ]
  },
  {
   "cell_type": "code",
   "execution_count": 32,
   "metadata": {},
   "outputs": [
    {
     "ename": "KeyboardInterrupt",
     "evalue": "",
     "output_type": "error",
     "traceback": [
      "\u001b[1;31m---------------------------------------------------------------------------\u001b[0m",
      "\u001b[1;31mKeyboardInterrupt\u001b[0m                         Traceback (most recent call last)",
      "\u001b[1;32m<ipython-input-32-06a51d0de181>\u001b[0m in \u001b[0;36m<module>\u001b[1;34m\u001b[0m\n\u001b[1;32m----> 1\u001b[1;33m \u001b[0mcontinue_liking\u001b[0m\u001b[1;33m(\u001b[0m\u001b[1;33m)\u001b[0m\u001b[1;33m\u001b[0m\u001b[1;33m\u001b[0m\u001b[0m\n\u001b[0m",
      "\u001b[1;32m<ipython-input-31-014197e06640>\u001b[0m in \u001b[0;36mcontinue_liking\u001b[1;34m()\u001b[0m\n\u001b[0;32m     11\u001b[0m \u001b[1;33m\u001b[0m\u001b[0m\n\u001b[0;32m     12\u001b[0m             \u001b[1;31m# like the picture\u001b[0m\u001b[1;33m\u001b[0m\u001b[1;33m\u001b[0m\u001b[1;33m\u001b[0m\u001b[0m\n\u001b[1;32m---> 13\u001b[1;33m             \u001b[0mlike_pic\u001b[0m\u001b[1;33m(\u001b[0m\u001b[1;33m)\u001b[0m\u001b[1;33m\u001b[0m\u001b[1;33m\u001b[0m\u001b[0m\n\u001b[0m\u001b[0;32m     14\u001b[0m             \u001b[0mtime\u001b[0m\u001b[1;33m.\u001b[0m\u001b[0msleep\u001b[0m\u001b[1;33m(\u001b[0m\u001b[1;36m2\u001b[0m\u001b[1;33m)\u001b[0m\u001b[1;33m\u001b[0m\u001b[1;33m\u001b[0m\u001b[0m\n\u001b[0;32m     15\u001b[0m         \u001b[1;32melse\u001b[0m\u001b[1;33m:\u001b[0m\u001b[1;33m\u001b[0m\u001b[1;33m\u001b[0m\u001b[0m\n",
      "\u001b[1;32m<ipython-input-8-589cf0c15b02>\u001b[0m in \u001b[0;36mlike_pic\u001b[1;34m()\u001b[0m\n\u001b[0;32m      1\u001b[0m \u001b[1;32mdef\u001b[0m \u001b[0mlike_pic\u001b[0m\u001b[1;33m(\u001b[0m\u001b[1;33m)\u001b[0m\u001b[1;33m:\u001b[0m\u001b[1;33m\u001b[0m\u001b[1;33m\u001b[0m\u001b[0m\n\u001b[1;32m----> 2\u001b[1;33m     \u001b[0mtime\u001b[0m\u001b[1;33m.\u001b[0m\u001b[0msleep\u001b[0m\u001b[1;33m(\u001b[0m\u001b[1;36m4\u001b[0m\u001b[1;33m)\u001b[0m\u001b[1;33m\u001b[0m\u001b[1;33m\u001b[0m\u001b[0m\n\u001b[0m\u001b[0;32m      3\u001b[0m     \u001b[0mlike\u001b[0m \u001b[1;33m=\u001b[0m \u001b[0mchrome\u001b[0m\u001b[1;33m.\u001b[0m\u001b[0mfind_element_by_xpath\u001b[0m\u001b[1;33m(\u001b[0m\u001b[1;34m'/html/body/div[4]/div[2]/div/article/div[2]/section[1]/span[1]/button'\u001b[0m\u001b[1;33m)\u001b[0m\u001b[1;33m\u001b[0m\u001b[1;33m\u001b[0m\u001b[0m\n\u001b[0;32m      4\u001b[0m \u001b[1;33m\u001b[0m\u001b[0m\n\u001b[0;32m      5\u001b[0m \u001b[1;33m\u001b[0m\u001b[0m\n",
      "\u001b[1;31mKeyboardInterrupt\u001b[0m: "
     ]
    }
   ],
   "source": [
    "continue_liking()"
   ]
  },
  {
   "cell_type": "code",
   "execution_count": null,
   "metadata": {},
   "outputs": [],
   "source": []
  },
  {
   "cell_type": "code",
   "execution_count": null,
   "metadata": {},
   "outputs": [],
   "source": []
  }
 ],
 "metadata": {
  "kernelspec": {
   "display_name": "Python 3",
   "language": "python",
   "name": "python3"
  },
  "language_info": {
   "codemirror_mode": {
    "name": "ipython",
    "version": 3
   },
   "file_extension": ".py",
   "mimetype": "text/x-python",
   "name": "python",
   "nbconvert_exporter": "python",
   "pygments_lexer": "ipython3",
   "version": "3.7.6"
  }
 },
 "nbformat": 4,
 "nbformat_minor": 4
}
